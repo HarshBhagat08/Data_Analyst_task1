{
 "cells": [
  {
   "cell_type": "code",
   "execution_count": 7,
   "metadata": {},
   "outputs": [
    {
     "name": "stdout",
     "output_type": "stream",
     "text": [
      "[1, 2, 4, 6, 8]\n",
      "{'name': 'Harsh', 'City': 'Mumbai', 'gender': 'Male'}\n",
      "[1, 2, 4, 6, 8]\n"
     ]
    }
   ],
   "source": [
    "#Creating a list\n",
    "my_list = [1,2,3,4,5]\n",
    "\n",
    "#Adding an value to the current list\n",
    "my_list.append(8)\n",
    "\n",
    "#Removing an value from current list\n",
    "my_list.remove(3)\n",
    "\n",
    "#Modifying an values from current list\n",
    "my_list[3]=6\n",
    "\n",
    "print(my_list)\n",
    "\n",
    "#Creating a Dictionary\n",
    "my_dict = {\"name\" : \"Harsh\",\"Age\" : 24 , \"City\" : \"Delhi\"}\n",
    "\n",
    "#Adding an value to the current Dictionary\n",
    "my_dict[\"gender\"]=\"Male\"\n",
    "\n",
    "#Removing an value from current Dictionary\n",
    "del my_dict[\"Age\"]\n",
    "\n",
    "#Modifying an values from current Dictionary\n",
    "my_dict[\"City\"] = \"Mumbai\"\n",
    "\n",
    "print(my_dict)\n",
    "\n",
    "#Creating a set\n",
    "my_set = {1,2,3,4,5}\n",
    "\n",
    "#Adding an value to the current set\n",
    "my_set.add(6)\n",
    "\n",
    "#Removing an value from current set\n",
    "my_set.remove(3)\n",
    "\n",
    "#Modifying an values from current set\n",
    "my_set.discard(1)\n",
    "my_set.add(10)\n",
    "\n",
    "print(my_list)"
   ]
  }
 ],
 "metadata": {
  "kernelspec": {
   "display_name": "Python 3",
   "language": "python",
   "name": "python3"
  },
  "language_info": {
   "codemirror_mode": {
    "name": "ipython",
    "version": 3
   },
   "file_extension": ".py",
   "mimetype": "text/x-python",
   "name": "python",
   "nbconvert_exporter": "python",
   "pygments_lexer": "ipython3",
   "version": "3.12.3"
  }
 },
 "nbformat": 4,
 "nbformat_minor": 2
}
